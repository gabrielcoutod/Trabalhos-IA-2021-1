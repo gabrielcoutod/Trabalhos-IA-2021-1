{
 "cells": [
  {
   "cell_type": "markdown",
   "source": [
    "**Pressione SHIFT+ENTER para executar a célula**"
   ],
   "metadata": {
    "id": "fM1tzPvICydP"
   }
  },
  {
   "cell_type": "markdown",
   "source": [
    "# Alegrete\n",
    "\n",
    "Este notebook fornece algumas visualizações para o trabalho de regressão linear. Para conseguir usar, implemente as funções no seu `alegrete.py` e tenha as bibliotecas `numpy` e `matplotlib` instaladas.\n",
    "\n",
    "O notebook usa um conjunto de dados sintetico. Adapte-o para carregar e usar os dados do `alegrete.csv`."
   ],
   "metadata": {
    "id": "EtGzW6k4-epp"
   }
  },
  {
   "cell_type": "markdown",
   "source": [
    "### Imports das bibliotecas de plot e da solucao implementada"
   ],
   "metadata": {}
  },
  {
   "cell_type": "code",
   "execution_count": 1,
   "source": [
    "%matplotlib inline\r\n",
    "from IPython.display import HTML\r\n",
    "import numpy as np\r\n",
    "import matplotlib.pyplot as plt\r\n",
    "import matplotlib.animation as animation\r\n",
    "\r\n",
    "import alegrete"
   ],
   "outputs": [],
   "metadata": {
    "executionInfo": {
     "elapsed": 633,
     "status": "ok",
     "timestamp": 1631925768986,
     "user": {
      "displayName": "Anderson Tavares",
      "photoUrl": "https://lh3.googleusercontent.com/a-/AOh14GgCwYk7tp3nP6ZaF03vKAzTMQ0Bx5FrmHg11c0E=s64",
      "userId": "08026797557963935348"
     },
     "user_tz": 180
    },
    "id": "k77xaJfA-epq"
   }
  },
  {
   "cell_type": "markdown",
   "source": [
    "### Visualizacao dos dados"
   ],
   "metadata": {}
  },
  {
   "cell_type": "code",
   "execution_count": 2,
   "source": [
    "# dataset do Quiz de Otimizacao Continua -- troque para carregar o alegrete.csv\r\n",
    "quiz_data = np.genfromtxt('alegrete.csv', delimiter=',')\r\n",
    "\r\n",
    "#Gráfico dos dados\r\n",
    "plt.figure(figsize=(6, 2))\r\n",
    "plt.scatter(quiz_data[:,0], quiz_data[:,1])\r\n",
    "plt.xlabel('x')\r\n",
    "plt.ylabel('y')\r\n",
    "plt.title('Dados do quiz de otimizacao continua')\r\n",
    "plt.show()"
   ],
   "outputs": [
    {
     "output_type": "display_data",
     "data": {
      "image/png": "[encoded data removed]",
      "text/plain": [
       "<Figure size 432x144 with 1 Axes>"
      ]
     },
     "metadata": {
      "needs_background": "light"
     }
    }
   ],
   "metadata": {
    "colab": {
     "base_uri": "https://localhost:8080/",
     "height": 406
    },
    "executionInfo": {
     "elapsed": 19,
     "status": "ok",
     "timestamp": 1631925771411,
     "user": {
      "displayName": "Anderson Tavares",
      "photoUrl": "https://lh3.googleusercontent.com/a-/AOh14GgCwYk7tp3nP6ZaF03vKAzTMQ0Bx5FrmHg11c0E=s64",
      "userId": "08026797557963935348"
     },
     "user_tz": 180
    },
    "id": "E9HoBdK3-epu",
    "outputId": "198a4259-e153-4da2-e57b-3dba321b972c"
   }
  },
  {
   "cell_type": "markdown",
   "source": [
    "### Execucao da regressao linear e calculo do EQM por epoca/iteracao"
   ],
   "metadata": {
    "id": "wnmqepye-ep_"
   }
  },
  {
   "cell_type": "code",
   "execution_count": 3,
   "source": [
    "def estimate_coef(x, y):\r\n",
    "    # number of observations/points\r\n",
    "    n = np.size(x)\r\n",
    " \r\n",
    "    # mean of x and y vector\r\n",
    "    m_x = np.mean(x)\r\n",
    "    m_y = np.mean(y)\r\n",
    " \r\n",
    "    # calculating cross-deviation and deviation about x\r\n",
    "    SS_xy = np.sum(y*x) - n*m_y*m_x\r\n",
    "    SS_xx = np.sum(x*x) - n*m_x*m_x\r\n",
    " \r\n",
    "    # calculating regression coefficients\r\n",
    "    b_1 = SS_xy / SS_xx\r\n",
    "    b_0 = m_y - b_1*m_x\r\n",
    " \r\n",
    "    return (b_0, b_1)\r\n",
    "\r\n",
    "theta_0s, theta_1s = alegrete.fit(\r\n",
    "    quiz_data, theta_0=0, theta_1=0, \r\n",
    "    alpha=0.1, num_iterations=200\r\n",
    ")\r\n",
    "\r\n",
    "valores = estimate_coef(quiz_data[:,0],quiz_data[:,1])\r\n",
    "print(f'Regressão linear: {valores}')\r\n",
    "print(f'MSE da regressão: {alegrete.compute_mse(valores[0], valores[1], quiz_data)}')\r\n",
    "\r\n",
    "\r\n",
    "\r\n",
    "# valores finais de theta0 e theta1\r\n",
    "final_th0, final_th1 = theta_0s[-1], theta_1s[-1]\r\n",
    "\r\n",
    "mse_list = [alegrete.compute_mse(th0, th1, quiz_data) for th0, th1 in zip(theta_0s, theta_1s)]\r\n",
    "print(f\"EQM final: {mse_list[-1]}\")\r\n",
    "\r\n",
    "\r\n",
    "plt.plot(mse_list)\r\n",
    "plt.xlabel('Epoca/iteracao')\r\n",
    "plt.ylabel('EQM')\r\n",
    "plt.show()"
   ],
   "outputs": [
    {
     "output_type": "stream",
     "name": "stdout",
     "text": [
      "Regressão linear: (-3.895780878311852, 1.1930336441895937)\n",
      "MSE da regressão: 8.953942751950354\n",
      "EQM final: inf\n"
     ]
    },
    {
     "output_type": "stream",
     "name": "stderr",
     "text": [
      "e:\\CIC\\aulas\\IA\\trabalhos\\t3\\alegrete.py:12: RuntimeWarning: overflow encountered in square\n",
      "  return 1 * sum((theta_0 + theta_1*data[:,0] - data[:,1])**2) / data.shape[0]\n",
      "e:\\CIC\\aulas\\IA\\trabalhos\\t3\\alegrete.py:12: RuntimeWarning: overflow encountered in double_scalars\n",
      "  return 1 * sum((theta_0 + theta_1*data[:,0] - data[:,1])**2) / data.shape[0]\n"
     ]
    },
    {
     "output_type": "display_data",
     "data": {
      "image/png": "[encoded data removed]",
      "text/plain": [
       "<Figure size 432x288 with 1 Axes>"
      ]
     },
     "metadata": {
      "needs_background": "light"
     }
    }
   ],
   "metadata": {
    "colab": {
     "base_uri": "https://localhost:8080/",
     "height": 404
    },
    "executionInfo": {
     "elapsed": 312,
     "status": "ok",
     "timestamp": 1631925777760,
     "user": {
      "displayName": "Anderson Tavares",
      "photoUrl": "https://lh3.googleusercontent.com/a-/AOh14GgCwYk7tp3nP6ZaF03vKAzTMQ0Bx5FrmHg11c0E=s64",
      "userId": "08026797557963935348"
     },
     "user_tz": 180
    },
    "id": "x1VREIE7-eqA",
    "outputId": "f50296d8-a051-4adb-9625-71a735de31ad"
   }
  },
  {
   "cell_type": "markdown",
   "source": [
    "### Plot da curva final"
   ],
   "metadata": {
    "id": "5v-y-qI3-ep7"
   }
  },
  {
   "cell_type": "code",
   "execution_count": 4,
   "source": [
    "theta_0s, theta_1s = alegrete.fit(\r\n",
    "    quiz_data, theta_0=1, theta_1=1, \r\n",
    "    alpha=0.001, num_iterations=50\r\n",
    ")\r\n",
    "\r\n",
    "# valores finais de theta0 e theta1\r\n",
    "final_th0, final_th1 = theta_0s[-1], theta_1s[-1]\r\n",
    "\r\n",
    "#Imprimir parâmetros otimizados\r\n",
    "print (f'Curva encontrada: {final_th1}*x + {final_th0}')\r\n",
    "\r\n",
    "#plota os dados\r\n",
    "plt.figure(figsize=(4, 2))\r\n",
    "plt.scatter(quiz_data[:,0], quiz_data[:,1])\r\n",
    "\r\n",
    "# plota a curva de ajuste\r\n",
    "pred = final_th1*quiz_data[:,0] + final_th0\r\n",
    "plt.plot(quiz_data[:,0], pred, c='r')\r\n",
    "plt.show()\r\n",
    "\r\n",
    "\r\n"
   ],
   "outputs": [
    {
     "output_type": "stream",
     "name": "stdout",
     "text": [
      "Curva encontrada: 0.9515302138469897*x + 0.9933586701030928\n"
     ]
    },
    {
     "output_type": "display_data",
     "data": {
      "image/png": "[encoded data removed]",
      "text/plain": [
       "<Figure size 288x144 with 1 Axes>"
      ]
     },
     "metadata": {
      "needs_background": "light"
     }
    }
   ],
   "metadata": {
    "colab": {
     "base_uri": "https://localhost:8080/"
    },
    "executionInfo": {
     "elapsed": 12,
     "status": "ok",
     "timestamp": 1631925776074,
     "user": {
      "displayName": "Anderson Tavares",
      "photoUrl": "https://lh3.googleusercontent.com/a-/AOh14GgCwYk7tp3nP6ZaF03vKAzTMQ0Bx5FrmHg11c0E=s64",
      "userId": "08026797557963935348"
     },
     "user_tz": 180
    },
    "id": "WV6KIdPq-ep7",
    "outputId": "4bd34c8f-494f-45e0-97fe-159098868226"
   }
  },
  {
   "cell_type": "markdown",
   "source": [
    "### Progresso da descida do gradiente com o número de iterações\n",
    "\n",
    "Execute a celula e use os controles abaixo do grafico para visualizar o progresso do seu ajuste\n",
    "\n",
    "Pode aparecer um grafico \"extra\" abaixo da animacao, apenas ignore."
   ],
   "metadata": {
    "id": "XeXdBWc-Cic-"
   }
  },
  {
   "cell_type": "code",
   "execution_count": 5,
   "source": [
    "fig = plt.figure(figsize=(4, 2))\r\n",
    "ax = fig.add_subplot(111)\r\n",
    "\r\n",
    "# conjunto de dados\r\n",
    "ax.scatter(quiz_data[:,0], quiz_data[:,1])\r\n",
    "\r\n",
    "# linha com os valores iniciais dos parametros\r\n",
    "pred = theta_1s[0]*quiz_data[:,0] + theta_0s[0]\r\n",
    "line, = ax.plot(quiz_data[:,0], pred, '-',c='r')\r\n",
    "\r\n",
    "# funcao que atualiza a linha a cada passo\r\n",
    "def animate(i):\r\n",
    "    pred = theta_1s[i] * quiz_data[:,0] + theta_0s[i]\r\n",
    "    line.set_ydata(pred)\r\n",
    "    return line,\r\n",
    "\r\n",
    "# mude interval para trocar a velocidade da animacao\r\n",
    "ani = animation.FuncAnimation(fig, animate, frames=len(theta_0s), interval=20, save_count=50)\r\n",
    "HTML(ani.to_jshtml())"
   ],
   "outputs": [
    {
     "output_type": "execute_result",
     "data": {
      "text/html": [
       "\n",
       "<link rel=\"stylesheet\"\n",
       "href=\"https://maxcdn.bootstrapcdn.com/font-awesome/4.4.0/css/font-awesome.min.css\">\n",
       "<script language=\"javascript\">\n",
       "  function isInternetExplorer() {\n",
       "    ua = navigator.userAgent;\n",
       "    /* MSIE used to detect old browsers and Trident used to newer ones*/\n",
       "    return ua.indexOf(\"MSIE \") > -1 || ua.indexOf(\"Trident/\") > -1;\n",
       "  }\n",
       "\n",
       "  /* Define the Animation class */\n",
       "  function Animation(frames, img_id, slider_id, interval, loop_select_id){\n",
       "    this.img_id = img_id;\n",
       "    this.slider_id = slider_id;\n",
       "    this.loop_select_id = loop_select_id;\n",
       "    this.interval = interval;\n",
       "    this.current_frame = 0;\n",
       "    this.direction = 0;\n",
       "    this.timer = null;\n",
       "    this.frames = new Array(frames.length);\n",
       "\n",
       "    for (var i=0; i<frames.length; i++)\n",
       "    {\n",
       "     this.frames[i] = new Image();\n",
       "     this.frames[i].src = frames[i];\n",
       "    }\n",
       "    var slider = document.getElementById(this.slider_id);\n",
       "    slider.max = this.frames.length - 1;\n",
       "    if (isInternetExplorer()) {\n",
       "        // switch from oninput to onchange because IE <= 11 does not conform\n",
       "        // with W3C specification. It ignores oninput and onchange behaves\n",
       "        // like oninput. In contrast, Mircosoft Edge behaves correctly.\n",
       "        slider.setAttribute('onchange', slider.getAttribute('oninput'));\n",
       "        slider.setAttribute('oninput', null);\n",
       "    }\n",
       "    this.set_frame(this.current_frame);\n",
       "  }\n",
       "\n",
       "  Animation.prototype.get_loop_state = function(){\n",
       "    var button_group = document[this.loop_select_id].state;\n",
       "    for (var i = 0; i < button_group.length; i++) {\n",
       "        var button = button_group[i];\n",
       "        if (button.checked) {\n",
       "            return button.value;\n",
       "        }\n",
       "    }\n",
       "    return undefined;\n",
       "  }\n",
       "\n",
       "  Animation.prototype.set_frame = function(frame){\n",
       "    this.current_frame = frame;\n",
       "    document.getElementById(this.img_id).src =\n",
       "            this.frames[this.current_frame].src;\n",
       "    document.getElementById(this.slider_id).value = this.current_frame;\n",
       "  }\n",
       "\n",
       "  Animation.prototype.next_frame = function()\n",
       "  {\n",
       "    this.set_frame(Math.min(this.frames.length - 1, this.current_frame + 1));\n",
       "  }\n",
       "\n",
       "  Animation.prototype.previous_frame = function()\n",
       "  {\n",
       "    this.set_frame(Math.max(0, this.current_frame - 1));\n",
       "  }\n",
       "\n",
       "  Animation.prototype.first_frame = function()\n",
       "  {\n",
       "    this.set_frame(0);\n",
       "  }\n",
       "\n",
       "  Animation.prototype.last_frame = function()\n",
       "  {\n",
       "    this.set_frame(this.frames.length - 1);\n",
       "  }\n",
       "\n",
       "  Animation.prototype.slower = function()\n",
       "  {\n",
       "    this.interval /= 0.7;\n",
       "    if(this.direction > 0){this.play_animation();}\n",
       "    else if(this.direction < 0){this.reverse_animation();}\n",
       "  }\n",
       "\n",
       "  Animation.prototype.faster = function()\n",
       "  {\n",
       "    this.interval *= 0.7;\n",
       "    if(this.direction > 0){this.play_animation();}\n",
       "    else if(this.direction < 0){this.reverse_animation();}\n",
       "  }\n",
       "\n",
       "  Animation.prototype.anim_step_forward = function()\n",
       "  {\n",
       "    this.current_frame += 1;\n",
       "    if(this.current_frame < this.frames.length){\n",
       "      this.set_frame(this.current_frame);\n",
       "    }else{\n",
       "      var loop_state = this.get_loop_state();\n",
       "      if(loop_state == \"loop\"){\n",
       "        this.first_frame();\n",
       "      }else if(loop_state == \"reflect\"){\n",
       "        this.last_frame();\n",
       "        this.reverse_animation();\n",
       "      }else{\n",
       "        this.pause_animation();\n",
       "        this.last_frame();\n",
       "      }\n",
       "    }\n",
       "  }\n",
       "\n",
       "  Animation.prototype.anim_step_reverse = function()\n",
       "  {\n",
       "    this.current_frame -= 1;\n",
       "    if(this.current_frame >= 0){\n",
       "      this.set_frame(this.current_frame);\n",
       "    }else{\n",
       "      var loop_state = this.get_loop_state();\n",
       "      if(loop_state == \"loop\"){\n",
       "        this.last_frame();\n",
       "      }else if(loop_state == \"reflect\"){\n",
       "        this.first_frame();\n",
       "        this.play_animation();\n",
       "      }else{\n",
       "        this.pause_animation();\n",
       "        this.first_frame();\n",
       "      }\n",
       "    }\n",
       "  }\n",
       "\n",
       "  Animation.prototype.pause_animation = function()\n",
       "  {\n",
       "    this.direction = 0;\n",
       "    if (this.timer){\n",
       "      clearInterval(this.timer);\n",
       "      this.timer = null;\n",
       "    }\n",
       "  }\n",
       "\n",
       "  Animation.prototype.play_animation = function()\n",
       "  {\n",
       "    this.pause_animation();\n",
       "    this.direction = 1;\n",
       "    var t = this;\n",
       "    if (!this.timer) this.timer = setInterval(function() {\n",
       "        t.anim_step_forward();\n",
       "    }, this.interval);\n",
       "  }\n",
       "\n",
       "  Animation.prototype.reverse_animation = function()\n",
       "  {\n",
       "    this.pause_animation();\n",
       "    this.direction = -1;\n",
       "    var t = this;\n",
       "    if (!this.timer) this.timer = setInterval(function() {\n",
       "        t.anim_step_reverse();\n",
       "    }, this.interval);\n",
       "  }\n",
       "</script>\n",
       "\n",
       "<style>\n",
       ".animation {\n",
       "    display: inline-block;\n",
       "    text-align: center;\n",
       "}\n",
       "input[type=range].anim-slider {\n",
       "    width: 374px;\n",
       "    margin-left: auto;\n",
       "    margin-right: auto;\n",
       "}\n",
       ".anim-buttons {\n",
       "    margin: 8px 0px;\n",
       "}\n",
       ".anim-buttons button {\n",
       "    padding: 0;\n",
       "    width: 36px;\n",
       "}\n",
       ".anim-state label {\n",
       "    margin-right: 8px;\n",
       "}\n",
       ".anim-state input {\n",
       "    margin: 0;\n",
       "    vertical-align: middle;\n",
       "}\n",
       "</style>\n",
       "\n",
       "<div class=\"animation\">\n",
       "  <img id=\"_anim_img1f42520e1bdf43a5b19b87fcd0f5fe2c\">\n",
       "  <div class=\"anim-controls\">\n",
       "    <input id=\"_anim_slider1f42520e1bdf43a5b19b87fcd0f5fe2c\" type=\"range\" class=\"anim-slider\"\n",
       "           name=\"points\" min=\"0\" max=\"1\" step=\"1\" value=\"0\"\n",
       "           oninput=\"anim1f42520e1bdf43a5b19b87fcd0f5fe2c.set_frame(parseInt(this.value));\"></input>\n",
       "    <div class=\"anim-buttons\">\n",
       "      <button title=\"Decrease speed\" onclick=\"anim1f42520e1bdf43a5b19b87fcd0f5fe2c.slower()\">\n",
       "          <i class=\"fa fa-minus\"></i></button>\n",
       "      <button title=\"First frame\" onclick=\"anim1f42520e1bdf43a5b19b87fcd0f5fe2c.first_frame()\">\n",
       "        <i class=\"fa fa-fast-backward\"></i></button>\n",
       "      <button title=\"Previous frame\" onclick=\"anim1f42520e1bdf43a5b19b87fcd0f5fe2c.previous_frame()\">\n",
       "          <i class=\"fa fa-step-backward\"></i></button>\n",
       "      <button title=\"Play backwards\" onclick=\"anim1f42520e1bdf43a5b19b87fcd0f5fe2c.reverse_animation()\">\n",
       "          <i class=\"fa fa-play fa-flip-horizontal\"></i></button>\n",
       "      <button title=\"Pause\" onclick=\"anim1f42520e1bdf43a5b19b87fcd0f5fe2c.pause_animation()\">\n",
       "          <i class=\"fa fa-pause\"></i></button>\n",
       "      <button title=\"Play\" onclick=\"anim1f42520e1bdf43a5b19b87fcd0f5fe2c.play_animation()\">\n",
       "          <i class=\"fa fa-play\"></i></button>\n",
       "      <button title=\"Next frame\" onclick=\"anim1f42520e1bdf43a5b19b87fcd0f5fe2c.next_frame()\">\n",
       "          <i class=\"fa fa-step-forward\"></i></button>\n",
       "      <button title=\"Last frame\" onclick=\"anim1f42520e1bdf43a5b19b87fcd0f5fe2c.last_frame()\">\n",
       "          <i class=\"fa fa-fast-forward\"></i></button>\n",
       "      <button title=\"Increase speed\" onclick=\"anim1f42520e1bdf43a5b19b87fcd0f5fe2c.faster()\">\n",
       "          <i class=\"fa fa-plus\"></i></button>\n",
       "    </div>\n",
       "    <form title=\"Repetition mode\" action=\"#n\" name=\"_anim_loop_select1f42520e1bdf43a5b19b87fcd0f5fe2c\"\n",
       "          class=\"anim-state\">\n",
       "      <input type=\"radio\" name=\"state\" value=\"once\" id=\"_anim_radio1_1f42520e1bdf43a5b19b87fcd0f5fe2c\"\n",
       "             >\n",
       "      <label for=\"_anim_radio1_1f42520e1bdf43a5b19b87fcd0f5fe2c\">Once</label>\n",
       "      <input type=\"radio\" name=\"state\" value=\"loop\" id=\"_anim_radio2_1f42520e1bdf43a5b19b87fcd0f5fe2c\"\n",
       "             checked>\n",
       "      <label for=\"_anim_radio2_1f42520e1bdf43a5b19b87fcd0f5fe2c\">Loop</label>\n",
       "      <input type=\"radio\" name=\"state\" value=\"reflect\" id=\"_anim_radio3_1f42520e1bdf43a5b19b87fcd0f5fe2c\"\n",
       "             >\n",
       "      <label for=\"_anim_radio3_1f42520e1bdf43a5b19b87fcd0f5fe2c\">Reflect</label>\n",
       "    </form>\n",
       "  </div>\n",
       "</div>\n",
       "\n",
       "\n",
       "<script language=\"javascript\">\n",
       "  /* Instantiate the Animation class. */\n",
       "  /* The IDs given should match those used in the template above. */\n",
       "  (function() {\n",
       "    var img_id = \"_anim_img1f42520e1bdf43a5b19b87fcd0f5fe2c\";\n",
       "    var slider_id = \"_anim_slider1f42520e1bdf43a5b19b87fcd0f5fe2c\";\n",
       "    var loop_select_id = \"_anim_loop_select1f42520e1bdf43a5b19b87fcd0f5fe2c\";\n",
       "    var frames = new Array(2);\n",
       "    \n",
       "  frames[0] = \"data:image/png;base64,iVBORw0KGgoAAAANSUhEUgAAASAAAACQCAYAAACoPrZBAAAAOXRFWHRTb2Z0d2FyZQBNYXRwbG90\\\n",
       "bGliIHZlcnNpb24zLjMuMywgaHR0cHM6Ly9tYXRwbG90bGliLm9yZy/Il7ecAAAACXBIWXMAAAsT\\\n",
       "AAALEwEAmpwYAAAS4ElEQVR4nO3de4xc5XnH8e/jYQK7ELHmIsvesKxdqAuF2A6GIDni4oSacjGL\\\n",
       "uTQtF0dqayoBLRa1WJpWhIiUJVbcoohGdQuJHQXq1CYbm4sMAiNSJ5CssYlDwCLUNnixMS5eCGaN\\\n",
       "9/L0j5nZncu5zOycM+cyz0dCXs/MzjnDcH687/NejqgqxhgThUlRn4AxpnlZABljImMBZIyJjAWQ\\\n",
       "MSYyFkDGmMhYABljImMBZIyJjAWQMSYyFkDGmMhYABljImMBZIyJjAWQMSYyFkDGmMhYABljImMB\\\n",
       "ZIyJjAWQMSYyR0V9AuVOOukk7ezsjPo0jGk6W7ZsOaCqJzfymLELoM7OTvr6+qI+DWOajojsbvQx\\\n",
       "YxdAxphg9G7tZ/nGHbw7MMi0thaWLZhJ15z2qE+rhAWQMSnUu7Wfux/fzuDQCAD9A4Pc/fh2gFiF\\\n",
       "kBWhjUmh5Rt3jIVPweDQCMs37ojojJxZABmTQu8ODNb0eFQsgIxJoWltLTU9HhULIGNSaNmCmbRk\\\n",
       "M1B037+WbIZlC2ZGeFaVrAhtTJ1iN9r04Yd0PXw/XQ89BMD6My7ggZvvif68HFgAGVOH2Iw27dwJ\\\n",
       "t94KTz9d8dTCnjtZuHB+486lBtYFM6YOkY42/fzncMYZIAIzZpSGz9Kl8NFHuS7YwoXhn8sEWQvI\\\n",
       "mDrUO9pUU/dNFa66CjZscH7+wQdzraBMpqpjx4EFkDF1mNbWQr9D2FQz2lRV9+3QIZgyJfdnuRNP\\\n",
       "hO9/H668cuIfIGLWBTOmDmOjTUWqHW1y6749+uimXLdKBI47rjJ8Hnkk1xo6cCDR4QPWAjKmLoWW\\\n",
       "ykRGwYq7aTdufYr7nvk39xf/8pdw7rl1n2/ciBbNE4iDuXPnqq2GN83g0+zRHD18xP0F+/fDyY3b\\\n",
       "HUNEtqjq3IYdkIBaQCJyCrAamAIosFJVHxSRE4A1QCewC7heVQ8GcUxjEmdkBI4av+SOdnjJaX/f\\\n",
       "y3DmKNrbWtjcwPCJSlBdsGHgTlV9RUQ+C2wRkWeBrwHPqWqPiHQD3cBdAR3TmPjbswdOOcXzJZ13\\\n",
       "PVHxWNzWbIUlkCK0qu5V1VfyP/8eeB1oB64CVuVftgroCuJ4xsRab+94EdkpfK68MldEVmXe/c85\\\n",
       "vkXc1myFJfBRMBHpBOYALwNTVHVv/ql95LpoxqTPDTeMh87VV1c+v3r1WOiwfv3Yw/WMoqVBoKNg\\\n",
       "InIcsA64Q1U/EpGx51RVRcSx4i0iS4AlAB0dHUGekjHhKfrv29Gbb8Jpp3m+pJ5RtDQIbBRMRLLA\\\n",
       "E8BGVV2Rf2wHcJGq7hWRqcALquoZ7TYKZmLr00/hmGO8X3PkCGSzjTmfgEUxChZIF0xyTZ2HgdcL\\\n",
       "4ZO3Hlic/3kx8NMgjmdMw2zZMt61cgufQtdKNbHhE5WgakDzgJuA+SKyLf/PZUAPcImIvAl8Jf93\\\n",
       "Y+Ktu3s8dOY6NAiOPbY0dMyEBVIDUtX/Adw6xF8O4hjGhMqvnnPfffD1rzfmXJqILcUwzcsvdLZv\\\n",
       "h7POasy5VCl2m5/VqSkCKG1fmpmgQ4dyizu9xLiIHJvNzwKU+tXwhS+tf2AQZfxL693aH/WpmUZ4\\\n",
       "8cXSleVOElJETsqtdmqR+gBK45dmfNxyy3joXHhh5fPTpwdaRO7d2s+8nueZ3v0k83qeD+1/bkm5\\\n",
       "1U4tUt8FS+OXZhz41XO++1247bbAD9vIblE9m5/FVepbQEm5P5KZgEIrxy183nprvJUTQvhAY1vY\\\n",
       "aVy2kfoASuOX1rQOHvQPnZGR8dCZMSP0U2pkC7trTjv3Lzqb9rYWBGhva+H+RWcntgANTdAFa/a1\\\n",
       "Non39NNw2WXer4lwMmCju0Vdc9pT9d9u6gMI0velpd6118K6de7Pn3cevPxy487Hw7IFM0tqQGAt\\\n",
       "7Fo0RQCZ6FQ9B8uviLx6Ndx0UzgnWQdrYdfHAsiExnOEaPY0mORTgtyzB9rjfyFbC3viLIBMaMpH\\\n",
       "iNoGP2LbA38B93n80uiof2vIpIYFkKlJLcta3h0Y5PLXf8ZD6x/wflNbUd60LIBM1aqedDd/Pmza\\\n",
       "xE6X93n8iwtZ9JJtDWUsgEwNvCbddX3hc56/+9eL/pFnTz+flmyG+xedHeZpmgSxADJVK55cJzrK\\\n",
       "zm8v9P6FAwfoffvwWJet3UaITBkLoBCkafuP4s/SObCPTf/+V96/UFbP6ToxuVtFmPBZAAUsTXu2\\\n",
       "9G7tZ9/td7J58xrv172yJ3GfzcSDBVDAPOskSblI88PgXS5Pbz51Fjd+9VuJb92Z6FkABSyx23/4\\\n",
       "zL352yuXsf7M3N46AuzsubwBJ2XSzgIoYInZs2V42Hf3v0v/6Se8caTyNbH7LCaxUr8dR6NVu/1H\\\n",
       "o3bRK7Fp0/hWFm7hU7RT4N9cfa5tZWJCZS2gEByTnVRSBzomW5rzDS1UX3wxvPCC92tcZiI3aqFl\\\n",
       "mkYNTW0sgIrUeyGUB0vBwU+GSgIm9EK131qqjg7Yvbuqtwp7oWWaRg1N7awLlhfE3TOcgqWgeJvO\\\n",
       "UArVfjsFrlo13r2qMnwawW4a0NwsgPKCuBD8AqTwfCD7VA8O+ofOwMB46Nx8c/Xv3UCJHTU0gbAA\\\n",
       "ygviQvALkMLzE96nesOG8cBpbXV+TfHtZo4/vupzj4rdNKC5WQDlBXEhOAVLQXHA1LS5+PHHj4fO\\\n",
       "Qpe1VwHe46rR7KYBzS2wIrSIPAJcAexX1bPyj50ArAE6gV3A9ap6MKhjBimIvX2LR436BwbJiDCi\\\n",
       "6rgI07O461dEvvBC/5GthLAtTZubaED/1xSRC4CPgdVFAfRt4ANV7RGRbmCyqt7l9T5z587Vvr6+\\\n",
       "QM6pVpEOB/uFztq1cM01jTmXIjZE3jxEZIuqzm3oMYMKIAAR6QSeKAqgHcBFqrpXRKYCL6iqZ5Mi\\\n",
       "ygBqqL17Ydo079ccOuRe62kAp2kFhf18LITSJ4oACrsGNEVV9+Z/3gdMCfl48Xb77eP1HLfwKa7n\\\n",
       "RBg+YEPkJnwNm4ioqioijs0tEVkCLAHo6Oho1Ck1RjUbrMe0eGxD5CZsYQfQeyIytagLtt/pRaq6\\\n",
       "ElgJuS7YRA4Uq1pFgkOnmN/C2lj9OzeJFHYXbD2wOP/zYiCUnciDmMVcN79JgT/8YeKGy72GyGPx\\\n",
       "79wkXmABJCKPAb8AZorIHhH5S6AHuERE3gS+kv974CKpVfT1+YfO4cPjgXPjjeGdS0i85itZfcgE\\\n",
       "IbAumKr+uctTXw7qGG4aVqtISdeqFm7zlaw+ZIKQitXwoW4ClqLQCbJmk5iN10yspWIpRuDT+f26\\\n",
       "VhBaPcdto7J6NzALumZjSyhMEFLRAqp7Or8qTPLJ4hUrYOnSOs/Um9veOH27P2Ddlv669swJeg8i\\\n",
       "W0JhghDoTOggBDUT2re7sXYtXHed95sMD0PGeXHphI/rYV7P847dmsKasnLtbS1s7p5f1XGndz+J\\\n",
       "0zdtG8ybgihmQqeiBVSud2s/y9a+ytBI7pLrHxhk2dpXfW8fDLh2qYov8LbWLKrw4eBQycVe7e5+\\\n",
       "bmHhVsB1Ch8YL/hWc1yr2Zg4SmUA3bvhtbHw2fXAFb6v97uxXvkFfvCTobHnirtJj738TkVYlHdz\\\n",
       "vMLCLSQEHFsvx7fkNpavpnsVxGp/Y4KWygDaes8C39d03vXE2M8tPvUUr61WIXex/+iltx1DAkqH\\\n",
       "pr3CwikkshkZC9NyhRp5NUPiVrMxcZSOABod9a3VFG6s1+7QyhgcGuHOH78KOIdQNXNbvCppxd0c\\\n",
       "r7BwColDnw4zMDjk+DsD+ZZYtd2rsDeYN6ZWiQugQv1k9O13+MX3vub52uJWDkBbS9azzuI2suR2\\\n",
       "gVejvJvjFxblITG9+0nX9y7e4tW6VyaJEjUPqFA/+eZ/druHjyq9r+zh9LtLL9zsJOEbC/94rG7i\\\n",
       "ZHBohHs3vFYx38Zrq1XI1WjcXHNOaaA4vZeQqwU5ze9xKxJL/r2g+i1eI7kZojEeEhVAhfrJtql/\\\n",
       "OPbYvuNOYM69G0smBXbNaWf5dbNKLsjl182ib/cHrt2ZgoOfDFVM1gNKLvDJrVnaWrJj733D+R2u\\\n",
       "IbTpjfdLLvzlG3dwzTnttOeDpbjA7DQ50C2wbji/o2KL183d89nZczmbu+c7ho8tHjVxk5x5QKrM\\\n",
       "6H4CBZTKWcr/+mezfUey7lizbULnlBHhO9fPAtyLuJ0eXaWWbMZxV8HC3tHliuf3FM693uKx2xyj\\\n",
       "8mOZ5pX4LVmDMBZAqqUho8q8Bza51mIKG7+7XahuF2C1shkBhaHR8X9fhdZLe1sLnxwZLhmeL/Ca\\\n",
       "RPhuvjVSLozJgTYR0fhJ45aswRHxLKr2DwyydM021y5GNSNZXku/hka0JHygtOv08eHhXEgVaclm\\\n",
       "PCcRNvKeWHb/LRNH8Q0ghzTomtNOm0cRufxSL96fxu9Ca8lmuOGLHZ7FZi9Do8rwiDK5NXd+GREG\\\n",
       "h0bIuKRaoYXWqAWdtnjUxFF8A8jFFbOmVhR8vUahCi2fZQtmVrRQCia3ZrnmnHY2vfG+54RDPwpj\\\n",
       "LaFCy8epBVR84R991PhXMLk1G9odJ2q6GaIxDZKoeUC9W/tZt6W/oqVTzSTAwoV274bXSmo1k1uz\\\n",
       "XP75qSWrzetR3k0ryIgwqjrW8gEq5u4cHhqt+/hebCKiiZtEBZDfkggnF//RyWM/Fy6+8nVdXsso\\\n",
       "gjKqWlLsndfzfKDbYxiTRIkKoIls9/noS28z99QTAFyHvRsxDlheg7ItTY1JWABNZEnEKHD3478G\\\n",
       "JJAuVrHW7CS07H2zkwSEkgWkTsVe2x7DmIQVoZctmJm7wGs0ODTqGz61vmtLNsM/L/p8RWF3+XWz\\\n",
       "WH7tLN9ir41KGRPniYgu5nzzGccJf/VoyWbGRsHeHRhkksvkwfJCcr21Gruxn4kT2xGxCgMBh09G\\\n",
       "pKKFUr5pGIwvnwgyIGxUyjS7xAVQW2s20BbQqGpFCNjmXcY0RuICKOgeY1ur88xqa50YE77EBdCH\\\n",
       "Pttp1Orjw8P0bu2vatN4Y0ywEjUKBsEPUw+Nasn9zG3fHGMaJ3EB5LWma6Kq3TTeGBOs0ANIRC4V\\\n",
       "kR0i8jsR6Q7kTUOYOeC3bYfNUDYmeKHWgEQkAzwEXALsAX4lIutV9bcTfc/lG3e4LvicKAXfe3NV\\\n",
       "0/Wz2pExtQm7BXQe8DtV/V9VPQL8F3BVPW8YVkuk+N5cE5mhbLUjY2oXdgC1A+8U/X1P/rEJC3Ot\\\n",
       "VOHeXBPZN8dqR8bULhbD8CKyBFgC0NHR4fnaZQtmsnTNtqrLQJMkdwvjgU+GaGvN8vHhYdcunNu9\\\n",
       "uaphtSNjahd2APUDpxT9/XP5x0qo6kpgJeTWgnm9Ydecdv677202v/WB78EnCay4fnbFHJ/yTcmg\\\n",
       "/oWgtrrdmNqF3QX7FXC6iEwXkc8AXwXW1/umu/7Pv1XRks1UhE9B62dyuVvYrzmI7UltdbsxtQu1\\\n",
       "BaSqwyJyG7ARyACPqOpr9b6vX7em3WUEqnyR6YjqWEjUO1pl68eMqV3oNSBVfQp4Ksj39NqYzOtG\\\n",
       "e16F4iCCwtaPGVObxM2EBjy7NV6tIysUGxMviQwgr/uDeRV97eZ8xsRL4gKod2s/83qeZ2BwqGIb\\\n",
       "Vb+irxWKjYmXWMwDqlZ5EVkpvT+7X9HXCsXGxEuiAsipiFwIH7fCczkrFBsTH4nqglkR2Zh0SVQA\\\n",
       "WRHZmHRJVABZEdmYdElUDciKyMakS6ICCKyIbEyaxO7OqCLyPrC7ipeeBBwI+XTiwj5rOsXts56q\\\n",
       "qic38oCxC6BqiUhfo28jGxX7rOnUTJ/VTaKK0MaYdLEAMsZEJskBtDLqE2gg+6zp1Eyf1VFia0DG\\\n",
       "mORLcgvIGJNwiQsgEdklIttFZJuI9EV9PkETkUdEZL+I/KbosRNE5FkReTP/5+QozzEoLp/1GyLS\\\n",
       "n/9+t4nIZVGeYxBE5BQR2SQivxWR10Tk7/KPp/J7rUXiAijvYlWdndIhzB8Al5Y91g08p6qnA8/l\\\n",
       "/54GP6DyswL8S/77nZ3f0jfphoE7VfVM4HzgVhE5k/R+r1VLagCllqq+CJTfc+gqYFX+51VAVyPP\\\n",
       "KSwunzV1VHWvqr6S//n3wOvkbtCZyu+1FkkMIAWeEZEt+RsaNoMpqro3//M+YEqUJ9MAt4nIr/Nd\\\n",
       "tFR1S0SkE5gDvEzzfa8VkhhAX1LVLwB/Sq4pe0HUJ9RImhu2TPPQ5feAPwBmA3uB70R6NgESkeOA\\\n",
       "dcAdqvpR8XNN8L06SlwAqWp//s/9wE+A86I9o4Z4T0SmAuT/3B/x+YRGVd9T1RFVHQX+g5R8vyKS\\\n",
       "JRc+P1LVx/MPN8336iZRASQix4rIZws/A38C/Mb7t1JhPbA4//Ni4KcRnkuoChdk3tWk4PsVEQEe\\\n",
       "Bl5X1RVFTzXN9+omURMRRWQGuVYP5LYSeVRVvxXhKQVORB4DLiK3Uvo94B6gF/gx0EFup4DrVTXx\\\n",
       "xVuXz3oRue6XAruAW4rqJIkkIl8CfgZsB0bzD/8DuTpQ6r7XWiQqgIwx6ZKoLpgxJl0sgIwxkfl/\\\n",
       "HRXOo2VsDnIAAAAASUVORK5CYII=\\\n",
       "\"\n",
       "  frames[1] = \"data:image/png;base64,iVBORw0KGgoAAAANSUhEUgAAASAAAACQCAYAAACoPrZBAAAAOXRFWHRTb2Z0d2FyZQBNYXRwbG90\\\n",
       "bGliIHZlcnNpb24zLjMuMywgaHR0cHM6Ly9tYXRwbG90bGliLm9yZy/Il7ecAAAACXBIWXMAAAsT\\\n",
       "AAALEwEAmpwYAAASmUlEQVR4nO3dfXAc9XnA8e8jcQSJJJUN1GMLHJlMRpDUYFMnJOMM5bWigSkK\\\n",
       "bUw6FJxJMtCZZpoEoiAzmSlkUqzWBc8waZJxhhcnhdRuDMLgEJPyUihTKDIyMQY8QLFdHcI22IKA\\\n",
       "D3KWnv5xe9LdaXfvTrd7+6Ln849Pd6fd32rZh9/v+b2JqmKMMVFoiboAxpjZywKQMSYyFoCMMZGx\\\n",
       "AGSMiYwFIGNMZCwAGWMiYwHIGBMZC0DGmMhYADLGRMYCkDEmMhaAjDGRsQBkjImMBSBjTGQsABlj\\\n",
       "ImMByBgTGQtAxpjIHBV1ASodf/zx2tXVFXUxjJl1tm3b9qaqntDMc8YuAHV1dTE0NBR1MYyZdURk\\\n",
       "T7PPGbsAZIwJxuBwljVbd/H6WI4FHW309XTTu7Qz6mKVsQBkTAoNDmdZdc8OcvlxALJjOVbdswMg\\\n",
       "VkHIktDGpNCarbsmg09RLj/Omq27IiqROwtAxqTQ62O5ut6PigUgY1JoQUdbXe9HxQKQMSnU19NN\\\n",
       "W6a17L22TCt9Pd0RlcidJaGNaVAce5uK549buSpZADKmAXHubepd2hl5GaqxJpgxDUhKb1NcWQ3I\\\n",
       "mAY02tsUevNtYgJa4lvPiG/JjEmARnqbis237FgOZar5NjicbaxQu3fDpZeCCLS2wooVjR0vRBaA\\\n",
       "jGlAI71NgTXfVGHzZliwoBB0Fi2Ce++d+nzlyvqO10QWgIxpQO/STlZfupjOjjYE6OxoY/Wli2tq\\\n",
       "Rnk107K1NN/eew+uv74QcFpa4JJLYHR06vM1a+CDDwrB6aKLarya5rMckDENmmlv04KONtdgIxSa\\\n",
       "Z9OOuXEjXHaZ+8E+9Sn40Y/grLPqLkeUAqkBichJIvKoiLwgIjtF5JvO+3NF5Dci8rLz75wgzmdM\\\n",
       "GvT1dCMu7yuF5hnj43D++YVajsj04PP1r8O+fYVazvPPJy74AIiqNn4QkfnAfFV9VkQ+AmwDeoGv\\\n",
       "AAdVdUBE+oE5qnqd37GWLVumth6QmS26+reU/bzoYJZHf3q19y987nPw+ONwVPCNFxHZpqrLAj+w\\\n",
       "j0CuQlVHgVHn9e9E5EWgE7gEONv52nrgMcA3ABkzm3R2tLFh9Zc58Z0D3l9avx6uvLJ5hWqiwMOo\\\n",
       "iHQBS4GngXlOcAJ4A5gX9PmMSZxDh2DuXACe9PjKr3/9DBf2NLUyEolAe8FE5MPAJuBbqvpO6Wda\\\n",
       "aOu5tvdE5CoRGRKRoQMHfP5PYExS3XrrVC7HCT6VFn33fpavfpjBZ0dmRfCBAGtAIpKhEHzuUtV7\\\n",
       "nLf3ich8VR118kT73X5XVdcB66CQAwqqTMZEStxSzCW+851Cd7njtZCLE0dB9YIJcBvwoqreUvLR\\\n",
       "ZqA4CmolcF8Q5zMmll59daqW4xV89u4t9FqplgWf2SqoGtBy4Apgh4hsd967HhgANorI14A9QHzH\\\n",
       "hBszEyeeCNkqUycC6GlOq6B6wf4LXIc0AJwXxDmMiYXx8epd4LfdBl/9anPKk3A2EtqYau6+Gy6/\\\n",
       "3P87b73lmVwOUhwXP2vErAhAabtppgmqJZCh6U2rOC9+NlOpn4wa2pIHJl3GxqonkO+4YyqBHEFe\\\n",
       "J42Ln6W+BuR305L6fw0TkGuugbVr/b+Tz1fN+TSrhp2UrXbqkfoAlMabZhpQrWl13HHw5ps1H66Z\\\n",
       "zSKv2fNx22qnHqlvgiVlfyQTkpdeqt60euqpqWZVHcEHmtssSspWO/VIfQBK400zVXz601MB59RT\\\n",
       "3b9Tmss588wZn6qZNexGFj+Lq9Q3wZKyP5JpgGr1hddXrIANGwI/dbObRUnYaqceqQ9AkL6bZoAt\\\n",
       "W+Dii/2/MzICneHe976e7rIcEFgNux6zIgCZ6ATaQxTDsTlWw26MBSATmoZ7iA4fhmOP9f/OzTcX\\\n",
       "utMjZDXsmUt9EtpEZ0Y9RKtXTyWQvYJPLjeVQI44+JjGWA3I1KWeJlXNPUQxbFqZ5rAakKlZvdNa\\\n",
       "vHqCFrccrj4256GHIp32YJrDakCmZvVOayntIfr+Qz/myuEt075TZmKittqQSQ0LQKZm9Q666z3j\\\n",
       "RHr9DrhyJdx5Z6PFMglmASgEaVr+o/RaWkQYd2kOTTa1nnii+uZ4e/bAwoUhlNQkkQWggKVpzZbK\\\n",
       "a3ELPrv/0RkMuMrnQJbDMR4sAAUsTct/uF1LZjzPy//8Rf9fXLUKbropxJKZtLAAFLA0Lf9RLHP/\\\n",
       "Y3fwN09v8v/y22/DRz/ahFKZNLEAFLDUrNkiUn2fKmtamQbZOKCA1br8x+BwluUDj7CofwvLBx6J\\\n",
       "fonYkZGqY3O+e+Hfcer3HmTw2RELPiYQVgMKwTGZlrLcyTGZ8jgfm0T1GWfA8LDvVwaf2cOa/3hl\\\n",
       "skdvdQg9emnqNTT1sQBUotEHoTKwFB06nC8LMJEmquuc9tAL9C4Lr9s8NsHYRMKaYI4gds9wCyxF\\\n",
       "pZMwm5qoHhysPu3hsccim/aQxp0eTO2sBuQIolZSLYAUPw89UZ2gyZ1p6jU09bMakCOIB6FaACl+\\\n",
       "Hvg61ePj1Ws5EMvJnbZpwOxmAcgRxIPgFliKSgNMIIuL33DDVMDx2rfqlVdiGXRK2aYBs1tgTTAR\\\n",
       "uR24GNivqn/kvDcX2AB0AbuBFap6KKhzBimItX1Ll+fMjuVodeZOdboktGe0il6Cmla1siVNZzfR\\\n",
       "gP6DFZGzgHeBn5UEoH8CDqrqgIj0A3NU9Tq/4yxbtkyHhoYCKVO9YtcdPDoKCxb4f+fqq+EnPwmt\\\n",
       "CLH7m5jQiMg2VV3W1HMGFYAARKQLeKAkAO0CzlbVURGZDzymqr5ViigDUCzUUsvJ5eCYY0Ivituw\\\n",
       "grZMa+L3ojLuoghAYeeA5qnqqPP6DWBeyOdLpnoTyE0IPmBd5CZ8TUtCa6Gq5VrdEpGrRGRIRIYO\\\n",
       "HDjQrCJF5+c/rx50BgYiTyBbF7kJW9jjgPaJyPySJth+ty+p6jpgHRSaYDM5UexzFQlMIFcbrxT7\\\n",
       "v7mJvbBrQJuBlc7rlcB9YZwkiFHMgVNN7NicIr8u8lj+zU3iBBaAROQXwH8D3SIyIiJfAwaAC0Tk\\\n",
       "ZeB85+fAxSZXcfLJUwHHa6/yBx+MddAp5TdeKTZ/c5NogTXBVPWvPD46L6hzeIk0V5HAplU9vMYr\\\n",
       "WX7IBCEVc8GaugjYyAicdFL178Uw6ASZs0nNwmsmUqmYihH6cP7SXI5X8HnttUCaVl4LlTW6gFnQ\\\n",
       "ORubQmGCkIoaUCjD+SNoWnmtjTO05yCbtmUbWjMn6DWIbAqFCUKgI6GDENRI6LqbG2vXwjXXVD9w\\\n",
       "lb9XI82c5QOPuDZrinPKKnV2tPFk/7k1nXdR/xbXQVgCvDZwUU3lM+kWxUjoVNSAKg0OZ+n75XPk\\\n",
       "xwuPXHYsR98vnwMqagy11HLGx6GlZeoB799CR3sGVXg7ly972Gtd3c8rWHglcN2CD0wlfGs5r+Vs\\\n",
       "TBylIgdU6cb7d04Gn6L8uHLj/TvrH5vjBJ/S/Mmhw3nGcvmyXMr3Bndw7cbnqnZN++VivIKBV0n/\\\n",
       "oC0D1DYMwXI2Jo5SWQM6dDg/+fp/fngFf/ie/wog9y0+D12/3rOp5LfUKhQe9rue2us+z4Tyrmm/\\\n",
       "YOG2JEimVaYF06JiDK2lS9xyNiaOUhmAJrcL9tF13QNlP7dudGmiOWoZ2+KXGSqt2fgFC7cg8d4H\\\n",
       "RxjL5V1/Z8wJtLU2r2a0BpExIUpcAHLNn5x6HLRVz2UsuWErbztNp0rjqp49S14PeC0qmznVgkVl\\\n",
       "kFjUv8Xz2KVLvDa6mJoxUUhUL1hpsvXPX/hPbr1/je+xeq+4me0LCg9hpkVY86XTuWHzTs8aBcCc\\\n",
       "9gztRx9VFuAA1+12igTvGtBff3YhP+hd7HoNlb/vtnKiV8+YAGsvWzL53Vp632zyqPGT+AXJguAX\\\n",
       "gIoP470/u5alox5zjpzrcXvYhvYc5F+f2ltXeYoLcMFU06iyF+ycU07wzAEVg0ppWc455QQefekA\\\n",
       "2bHctOBVueCXV8C6vCKwVWOLi5lq0rggWaCK+ZONp10w+d7An3yFrusemLZdcO/STp7sP5fXBi6a\\\n",
       "HCtTb/CBQoL4Wic/1NfTzYKONsYO5zn2Q0ex9rIlPNl/Lj/oXexZAyr2cpX2em3alqWvp5vOjrZp\\\n",
       "v1fZe+U2IXTtZUvqCj4Qowm7xpRIZA3IjVtNo7SJ4fe7tci0CijkJ6b+XqVNp8O/P1LW+1bkN4jw\\\n",
       "dScoVQpjcKANRDTVWA2oCr+kanYsx7c3bPec61RLT5bf0KD8uJYFH5hqOmXHcrz7/pFCkCrRlmn1\\\n",
       "HUTYzD2xbP8tE0eJCkC9SzvpcAbfufFrzlR70NoyrVx+5kLPfb2qyU8oR8aVOe2F8rWKkMuP0+oR\\\n",
       "1Yo1tGYNDrSBiCaOEhWAAC4+ff60kcF+EyqKNZ++nu5pNZSiOe0Z/uKPO3n0pQO+Aw6rUZisCRVr\\\n",
       "Pm41oNIH/0NHTd2COe2Z0JLCgWyGaEzAEjUOaHA4y6Zt2Wk1nVoGARYftBvv31mWq5nTnuGi0+aX\\\n",
       "zTZvRGUzrahVhAlV36799/MTDZ/fjw1ENHGTqABUbUqEm3NOOWHydfHhK33wDx3O+06jCMqEalmy\\\n",
       "d/nAI4Euj2FMEiUqAM1kuc+7n9rLso/NBaa2TK7UjH7AyhyULWlqTMIC0EymREwAq+75LSCBNLFK\\\n",
       "tWda0IrjZloEhLIJpG7JXlsew5iEJaH7eroLD3idcvmJqsGn3qO2ZVq56dLTpiV213zpdNb85elV\\\n",
       "k73WK2VMwgYiAiz9/kOuA/4a0ZZpnewFe30sR4vH4MHKRHKjuRqbm2XixFZErMFYwMGnVWRaDaVZ\\\n",
       "86asV8rMdokLQB3tmUBrQBOq04KALd5lTHMkLgAF3WLsaHcfWW21E2PCl7gA9LbPWj4z8e77Rxgc\\\n",
       "zta0aLwxJliJ6gWD4Lup8xNa86LxxphgJS4A+c3pmqlaF403xgQr9AAkIheKyC4ReUVE+gM5aAgj\\\n",
       "B6ot22EjlI0JXqg5IBFpBf4FuAAYAZ4Rkc2q+sJMj7lm6y7PCZ8zpTC5IH0jI5Qtd2RMfcKuAX0G\\\n",
       "eEVV/1dVfw/8G3BJIwcMqyZSujfXTEYoW+7ImPqFHYA6gf8r+XnEeW/GwpwrVdybaybr5ljuyJj6\\\n",
       "xaIbXkSuAq4CWLhwoe93+3q6+faG7TWngVqksIXx2OE8He0Z3n3/iGcTzmtvrlpY7siY+oUdgLLA\\\n",
       "SSU/n+i8V0ZV1wHroDAXzO+AvUs7+fehvTz56sGqJ28RuGXFkmljfCoXJYPGJ4La7HZj6hd2E+wZ\\\n",
       "4BMiskhEjga+DGxu9KC736peq2jLtE4LPkXtRxfibnG95iCWJ7XZ7cbUL9QakKoeEZFvAFuBVuB2\\\n",
       "Vd3Z6HGrNWvcdhiF6ZNMx1Ung0SjvVU2f8yY+oWeA1LVXwG/CvKYfguTdXa0TW5EWMkvURxEoLD5\\\n",
       "Y8bUJ3EjocF/fzC/2pElio2Jl0QGIL/9wfySvrY5nzHxkrgANDicZfnAI4zl8tOWUa2W9LVEsTHx\\\n",
       "EotxQLWqTCIr5fuzV0v6WqLYmHhJVABySyIXg49X4rmSJYqNiY9ENcEsiWxMuiQqAFkS2Zh0SVQA\\\n",
       "siSyMemSqByQJZGNSZdEBSCwJLIxaRK7nVFF5ACwp4avHg+8GXJx4sKuNZ3idq0fU9UTmnnC2AWg\\\n",
       "WonIULO3kY2KXWs6zaZr9ZKoJLQxJl0sABljIpPkALQu6gI0kV1rOs2ma3WV2ByQMSb5klwDMsYk\\\n",
       "XOICkIjsFpEdIrJdRIaiLk/QROR2EdkvIs+XvDdXRH4jIi87/86JsoxB8bjWG0Qk69zf7SLyhSjL\\\n",
       "GAQROUlEHhWRF0Rkp4h803k/lfe1HokLQI5zVHVJSrsw7wQurHivH3hYVT8BPOz8nAZ3Mv1aAdY6\\\n",
       "93eJs6Rv0h0BrlXVTwKfBf5WRD5Jeu9rzZIagFJLVR8HKvccugRY77xeD/Q2s0xh8bjW1FHVUVV9\\\n",
       "1nn9O+BFCht0pvK+1iOJAUiBh0Rkm7Oh4WwwT1VHnddvAPOiLEwTfENEfus00VLVLBGRLmAp8DSz\\\n",
       "775Ok8QA9HlVPQP4MwpV2bOiLlAzaaHbMs1dlz8GPg4sAUaBmyMtTYBE5MPAJuBbqvpO6Wez4L66\\\n",
       "SlwAUtWs8+9+4F7gM9GWqCn2ich8AOff/RGXJzSquk9Vx1V1AvgpKbm/IpKhEHzuUtV7nLdnzX31\\\n",
       "kqgAJCLHishHiq+BPwWe9/+tVNgMrHRerwTui7AsoSo+kI4vkoL7KyIC3Aa8qKq3lHw0a+6rl0QN\\\n",
       "RBSRkynUeqCwlMjdqvoPERYpcCLyC+BsCjOl9wF/DwwCG4GFFFYKWKGqiU/eelzr2RSaXwrsBq4u\\\n",
       "yZMkkoh8HngC2AFMOG9fTyEPlLr7Wo9EBSBjTLokqglmjEkXC0DGmMj8Pxu3/kcz0C/3AAAAAElF\\\n",
       "TkSuQmCC\\\n",
       "\"\n",
       "\n",
       "\n",
       "    /* set a timeout to make sure all the above elements are created before\n",
       "       the object is initialized. */\n",
       "    setTimeout(function() {\n",
       "        anim1f42520e1bdf43a5b19b87fcd0f5fe2c = new Animation(frames, img_id, slider_id, 20.0,\n",
       "                                 loop_select_id);\n",
       "    }, 0);\n",
       "  })()\n",
       "</script>\n"
      ],
      "text/plain": [
       "<IPython.core.display.HTML object>"
      ]
     },
     "metadata": {},
     "execution_count": 5
    },
    {
     "output_type": "display_data",
     "data": {
      "image/png": "[encoded data removed]",
      "text/plain": [
       "<Figure size 288x144 with 1 Axes>"
      ]
     },
     "metadata": {
      "needs_background": "light"
     }
    }
   ],
   "metadata": {
    "colab": {
     "base_uri": "https://localhost:8080/",
     "height": 892
    },
    "executionInfo": {
     "elapsed": 12319,
     "status": "ok",
     "timestamp": 1631925800823,
     "user": {
      "displayName": "Anderson Tavares",
      "photoUrl": "https://lh3.googleusercontent.com/a-/AOh14GgCwYk7tp3nP6ZaF03vKAzTMQ0Bx5FrmHg11c0E=s64",
      "userId": "08026797557963935348"
     },
     "user_tz": 180
    },
    "id": "pHGbi8nY-eqI",
    "outputId": "daa1bdeb-84ac-4e41-f71a-59b3e12e3090"
   }
  }
 ],
 "metadata": {
  "kernelspec": {
   "name": "python3",
   "display_name": "Python 3.7.9 64-bit"
  },
  "language_info": {
   "codemirror_mode": {
    "name": "ipython",
    "version": 3
   },
   "file_extension": ".py",
   "mimetype": "text/x-python",
   "name": "python",
   "nbconvert_exporter": "python",
   "pygments_lexer": "ipython3",
   "version": "3.7.9"
  },
  "interpreter": {
   "hash": "9164a3399a70d355c381b62813f30880ed90ca5a6f321bf0d85375640bda7ee5"
  }
 },
 "nbformat": 4,
 "nbformat_minor": 1
}